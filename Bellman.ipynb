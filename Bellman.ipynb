{
  "nbformat": 4,
  "nbformat_minor": 0,
  "metadata": {
    "colab": {
      "name": "Bellman",
      "provenance": [],
      "collapsed_sections": [],
      "authorship_tag": "ABX9TyNDVm5osqpZ/PFBxTJRRZ42",
      "include_colab_link": true
    },
    "kernelspec": {
      "name": "python3",
      "display_name": "Python 3"
    },
    "language_info": {
      "name": "python"
    }
  },
  "cells": [
    {
      "cell_type": "markdown",
      "metadata": {
        "id": "view-in-github",
        "colab_type": "text"
      },
      "source": [
        "<a href=\"https://colab.research.google.com/github/Carlos7099/Practicas_programacion/blob/main/Bellman.ipynb\" target=\"_parent\"><img src=\"https://colab.research.google.com/assets/colab-badge.svg\" alt=\"Open In Colab\"/></a>"
      ]
    },
    {
      "cell_type": "code",
      "metadata": {
        "id": "g4TGzv7PZMXi"
      },
      "source": [
        "import gym\n",
        "import numpy as np\n",
        "import seaborn as sns\n",
        "\n",
        "env = gym.make(\"FrozenLake-v0\", is_slippery=False)\n",
        "\n",
        "#Comentado para la segunda ecuacion de Bellman \n",
        "#V = np.zeros(env.observation_space.n) #Con este vector guardamos la experiencia que va teniendo el individuo con el entorno\n",
        "\n",
        "Q = np.zeros((env.observation_space.n, env.action_space.n))\n",
        "Q\n",
        "\n",
        "#Gamma es super importante para las recompensas y los valores de las observaciones\n",
        "gamma = 0.9\n",
        "for ep in range(1000):\n",
        "    obs = env.reset()\n",
        "    done = False\n",
        "\n",
        "#Realizamos un paso para cualquier lado del mapa y obtenemos el lugar donde nos quedamos\n",
        "    while not done:\n",
        "        action = env.action_space.sample()\n",
        "        next_obs, reward, done, _ = env.step(action)\n",
        "\n",
        " #Calculamos el valor de la observacion y vemos si es mayor que el de la memoria\n",
        "\n",
        "        actual_obs_value = reward + gamma*Q[next_obs].max()\n",
        "\n",
        "        Q[obs,action] = actual_obs_value\n",
        "\n",
        "        obs = next_obs\n",
        "        "
      ],
      "execution_count": 25,
      "outputs": []
    },
    {
      "cell_type": "code",
      "metadata": {
        "colab": {
          "base_uri": "https://localhost:8080/"
        },
        "id": "Lco4UD9of0I0",
        "outputId": "3072fca8-8a22-4afa-fe2c-ebe700a512f9"
      },
      "source": [
        "! pip3 install seaborn"
      ],
      "execution_count": 13,
      "outputs": [
        {
          "output_type": "stream",
          "name": "stdout",
          "text": [
            "Requirement already satisfied: seaborn in /usr/local/lib/python3.7/dist-packages (0.11.2)\n",
            "Requirement already satisfied: matplotlib>=2.2 in /usr/local/lib/python3.7/dist-packages (from seaborn) (3.2.2)\n",
            "Requirement already satisfied: pandas>=0.23 in /usr/local/lib/python3.7/dist-packages (from seaborn) (1.1.5)\n",
            "Requirement already satisfied: scipy>=1.0 in /usr/local/lib/python3.7/dist-packages (from seaborn) (1.4.1)\n",
            "Requirement already satisfied: numpy>=1.15 in /usr/local/lib/python3.7/dist-packages (from seaborn) (1.19.5)\n",
            "Requirement already satisfied: pyparsing!=2.0.4,!=2.1.2,!=2.1.6,>=2.0.1 in /usr/local/lib/python3.7/dist-packages (from matplotlib>=2.2->seaborn) (2.4.7)\n",
            "Requirement already satisfied: kiwisolver>=1.0.1 in /usr/local/lib/python3.7/dist-packages (from matplotlib>=2.2->seaborn) (1.3.2)\n",
            "Requirement already satisfied: cycler>=0.10 in /usr/local/lib/python3.7/dist-packages (from matplotlib>=2.2->seaborn) (0.11.0)\n",
            "Requirement already satisfied: python-dateutil>=2.1 in /usr/local/lib/python3.7/dist-packages (from matplotlib>=2.2->seaborn) (2.8.2)\n",
            "Requirement already satisfied: pytz>=2017.2 in /usr/local/lib/python3.7/dist-packages (from pandas>=0.23->seaborn) (2018.9)\n",
            "Requirement already satisfied: six>=1.5 in /usr/local/lib/python3.7/dist-packages (from python-dateutil>=2.1->matplotlib>=2.2->seaborn) (1.15.0)\n"
          ]
        }
      ]
    },
    {
      "cell_type": "code",
      "metadata": {
        "id": "wwig2-Kijm_M"
      },
      "source": [
        "import seaborn as sns"
      ],
      "execution_count": 14,
      "outputs": []
    },
    {
      "cell_type": "code",
      "metadata": {
        "colab": {
          "base_uri": "https://localhost:8080/",
          "height": 286
        },
        "id": "CVoU7qRIjxyP",
        "outputId": "0191e2cc-aadd-4282-e726-44918e8068e5"
      },
      "source": [
        "sns.heatmap(data=Q.reshape(16,4), annot=True)"
      ],
      "execution_count": 26,
      "outputs": [
        {
          "output_type": "execute_result",
          "data": {
            "text/plain": [
              "<matplotlib.axes._subplots.AxesSubplot at 0x7f16f4860d10>"
            ]
          },
          "metadata": {},
          "execution_count": 26
        },
        {
          "output_type": "display_data",
          "data": {
            "image/png": "[encoded data removed]",
            "text/plain": [
              "<Figure size 432x288 with 2 Axes>"
            ]
          },
          "metadata": {
            "needs_background": "light"
          }
        }
      ]
    }
  ]
}